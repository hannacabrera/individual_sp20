{
 "cells": [
  {
   "cell_type": "markdown",
   "metadata": {},
   "source": [
    "# COGS 108 - Project Proposal"
   ]
  },
  {
   "cell_type": "markdown",
   "metadata": {},
   "source": [
    "# Names & PID\n",
    "\n",
    "- Name: Hanna Cabrera\n",
    "- PID: A15174759"
   ]
  },
  {
   "cell_type": "markdown",
   "metadata": {},
   "source": [
    "# Research Question"
   ]
  },
  {
   "cell_type": "markdown",
   "metadata": {},
   "source": [
    "What is the maximum time frame between health inspections that will still ensure proper practice on the restaurant's side and be the most cost efficient for the county?"
   ]
  },
  {
   "cell_type": "markdown",
   "metadata": {},
   "source": [
    "## Background and Prior Work"
   ]
  },
  {
   "cell_type": "markdown",
   "metadata": {},
   "source": [
    "    Upon further research into the Health Inspection process, I stumbled upon the abstract for a journal on the effects of inspection frequency and food handler education (4). To summarize, the journal came to the conclusion that \"the optimal frequency of neither has been determined...\" (4) however, it did find that violation scores worsened when inspections were farther than 12 months apart. With this, I started wondering what the optimal frecquency of inspections would be to have the highest and safest health standard. With that, I realized that at its most extreme sense, an inspection a day would definitely ensure the highest health standards. However, I realized that this would be unmanageable, monetarily, and practice wise, as inspectors might slack if they had to inspect too many restaurants a day, or county's had to budget to pay for that sort of a frequency. So, I wanted to think and research the monetary side of health inspections.\n",
    "    Unfortunately, I have not yet been able to find a county's specific budget for health inspections, but I did look further into the process and how scores were formed. It seems there are tiers to health point deductions depending on the infraction. It would be interesting to also see the temporal effect on the major infractions versus minor ones(2). Health inspections also occur more or less frequently depending on the risk factor of the general establishment(5). It would be interesting to also try to see whether restaurants with repeates histories of proper conduct eventually violate after a certain time frame without inspection, or if that reputation holds, which could allow for expanding time frames between health inspections. So, maybe a system where 'trusted' high scoring establishments are visited less often, thus saving the county money and time along with the restaurant. \n",
    "\n",
    "References (include links):\n",
    "- 1)https://www.sandiegocounty.gov/content/sdc/deh/fhd/ffis/intro.html.html\n",
    "- 2)https://www.sandiegocounty.gov/content/dam/sdc/deh/fhd/food/pdf/publications_opguide.pdf\n",
    "   (Both of these are for basic background knowledge on Restaurant Health Inspection practices in San Diego County)\n",
    "- 3)https://www.sandiegocounty.gov/content/dam/sdc/deh/fhd/food/pdf/publications_calcode.pdf\n",
    "(California Retail food code ---- Not just SD county)\n",
    "-4)https://europepmc.org/article/med/7728716\n",
    "(previous study on the effects of inspection frequency)\n",
    "-5)https://dchealth.dc.gov/service/understanding-food-establishment-inspections"
   ]
  },
  {
   "cell_type": "markdown",
   "metadata": {},
   "source": [
    "# Hypothesis\n"
   ]
  },
  {
   "cell_type": "markdown",
   "metadata": {},
   "source": [
    "I expect for there to not be an exactly clear answer for all restaurants, rather a time frame with some wiggle room. I'm going to predict it to be right around the half year mark. This seems reasonable as it is already the most common practice standard and seems often enough that major violations can be kept in check, but also allow sites to have time to fix smaller daily infractions that may occur. "
   ]
  },
  {
   "cell_type": "markdown",
   "metadata": {},
   "source": [
    "# Data"
   ]
  },
  {
   "cell_type": "markdown",
   "metadata": {},
   "source": [
    "The ideal data set I would have to research this would be the County's previous health inspections reports, the county's annual fund towards health inspections. All of this data could be collected from the county itself. The variables at hand would be the restaurant's name, location, restaurant type (ie fast food, sit down, mobile, etc), it's past few inspection scores, the specific details of where points were docked, whether a follow up inspection was given, the date of inspections, the inspector's number of restaurants visited in a day (to see if this had any effect on the grading), the inspector's pay, the county's fund for health inspections overall yearly, and the number of health inspector's in a county. Ideally, we would not only have past information, but also be able to try implementing findings to see how they effected future findings- but that would get us in to experimentation, rather than data analysis. This data could be organized in a CSV file with many columns and different datatypes, ranging from integers to strings. With a mass csv file, you could complile and tidy the data to find what we really need to look at versus the extraneous, but overall, excess is better than not having enough data to answer your question. So, I would like to ideally start out with a lot."
   ]
  },
  {
   "cell_type": "markdown",
   "metadata": {},
   "source": [
    "# Ethics & Privacy"
   ]
  },
  {
   "cell_type": "markdown",
   "metadata": {},
   "source": [
    "Seeing as health inspections are a very public process, with grades mandatorily being easily seen in every food service establishment, I assume the data would be accessible and permissable. Especially since my purpose is to help improve county practice and health, which seems to not harm anyone. Althoung, it may force restaurant staff to have to do more than before- but that is arguable and depndent upon the finidings and implementation ( none of which is promised). As mentioned before, I also don't believe there to be privacy issues unless the food inspectors of the county themselves wish to be anonymous, which can easily be accounted and adjusted for. Biases in health inspection reports themselves are a main concern, seeing as humans conduct this test. However, it is expected to be trustworthy since this is their job and they are trained to do it. To account for this though, having on record the grades given by an individual inspector overall can help account for this and help us to see if there is a trend in the inspector's grading itself. Thus, it can be decided whether the inspector's reports are too biased for use in data analysis, or seemingly just. "
   ]
  },
  {
   "cell_type": "code",
   "execution_count": null,
   "metadata": {},
   "outputs": [],
   "source": []
  }
 ],
 "metadata": {
  "kernelspec": {
   "display_name": "Python 3",
   "language": "python",
   "name": "python3"
  },
  "language_info": {
   "codemirror_mode": {
    "name": "ipython",
    "version": 3
   },
   "file_extension": ".py",
   "mimetype": "text/x-python",
   "name": "python",
   "nbconvert_exporter": "python",
   "pygments_lexer": "ipython3",
   "version": "3.6.7"
  }
 },
 "nbformat": 4,
 "nbformat_minor": 2
}
